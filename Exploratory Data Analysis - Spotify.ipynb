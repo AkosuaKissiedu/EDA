{
 "cells": [
  {
   "cell_type": "code",
   "execution_count": 1,
   "id": "723f7d9e",
   "metadata": {},
   "outputs": [],
   "source": [
    "import matplotlib.pyplot as plt\n",
    "import pandas as pd"
   ]
  },
  {
   "cell_type": "code",
   "execution_count": 2,
   "id": "892a6e9e",
   "metadata": {},
   "outputs": [],
   "source": [
    "data = pd.read_csv(\"spotify2023.csv\", encoding = \"Latin-1\" )"
   ]
  },
  {
   "cell_type": "code",
   "execution_count": 3,
   "id": "7e63adf4",
   "metadata": {},
   "outputs": [],
   "source": [
    "# track_name: Name of the song\n",
    "# artist(s)_name: Name of the artist(s) of the song\n",
    "# artist_count: Number of artists contributing to the song\n",
    "# released_year: Year when the song was released\n",
    "# released_month: Month when the song was released\n",
    "# released_day: Day of the month when the song was released\n",
    "# in_spotify_playlists: Number of Spotify playlists the song is included in\n",
    "# in_spotify_charts: Presence and rank of the song on Spotify charts\n",
    "# streams: Total number of streams on Spotify\n",
    "# in_apple_playlists: Number of Apple Music playlists the song is included in\n",
    "# in_apple_charts: Presence and rank of the song on Apple Music charts\n",
    "# in_deezer_playlists: Number of Deezer playlists the song is included in\n",
    "# in_deezer_charts: Presence and rank of the song on Deezer charts\n",
    "# in_shazam_charts: Presence and rank of the song on Shazam charts\n",
    "# bpm: Beats per minute, a measure of song tempo\n",
    "# key: Key of the song\n",
    "# mode: Mode of the song (major or minor)\n",
    "# danceability_%: Percentage indicating how suitable the song is for dancing\n",
    "# valence_%: Positivity of the song's musical content\n",
    "# energy_%: Perceived energy level of the song\n",
    "# acousticness_%: Amount of acoustic sound in the song\n",
    "# instrumentalness_%: Amount of instrumental content in the song\n",
    "# liveness_%: Presence of live performance elements\n",
    "# speechiness_%: Amount of spoken words in the song"
   ]
  },
  {
   "cell_type": "code",
   "execution_count": 4,
   "id": "42ca3e89",
   "metadata": {},
   "outputs": [],
   "source": [
    "# Drop Na's\n",
    "data.dropna(inplace=True)"
   ]
  },
  {
   "cell_type": "code",
   "execution_count": 5,
   "id": "34371270",
   "metadata": {
    "scrolled": true
   },
   "outputs": [
    {
     "name": "stdout",
     "output_type": "stream",
     "text": [
      "<class 'pandas.core.frame.DataFrame'>\n",
      "Int64Index: 816 entries, 0 to 951\n",
      "Data columns (total 24 columns):\n",
      " #   Column                Non-Null Count  Dtype \n",
      "---  ------                --------------  ----- \n",
      " 0   track_name            816 non-null    object\n",
      " 1   artist(s)_name        816 non-null    object\n",
      " 2   artist_count          816 non-null    int64 \n",
      " 3   released_year         816 non-null    int64 \n",
      " 4   released_month        816 non-null    int64 \n",
      " 5   released_day          816 non-null    int64 \n",
      " 6   in_spotify_playlists  816 non-null    int64 \n",
      " 7   in_spotify_charts     816 non-null    int64 \n",
      " 8   streams               816 non-null    int64 \n",
      " 9   in_apple_playlists    816 non-null    int64 \n",
      " 10  in_apple_charts       816 non-null    int64 \n",
      " 11  in_deezer_playlists   816 non-null    object\n",
      " 12  in_deezer_charts      816 non-null    int64 \n",
      " 13  in_shazam_charts      816 non-null    object\n",
      " 14  bpm                   816 non-null    int64 \n",
      " 15  key                   816 non-null    object\n",
      " 16  mode                  816 non-null    object\n",
      " 17  danceability_%        816 non-null    int64 \n",
      " 18  valence_%             816 non-null    int64 \n",
      " 19  energy_%              816 non-null    int64 \n",
      " 20  acousticness_%        816 non-null    int64 \n",
      " 21  instrumentalness_%    816 non-null    int64 \n",
      " 22  liveness_%            816 non-null    int64 \n",
      " 23  speechiness_%         816 non-null    int64 \n",
      "dtypes: int64(18), object(6)\n",
      "memory usage: 159.4+ KB\n"
     ]
    }
   ],
   "source": [
    "data.info()"
   ]
  },
  {
   "cell_type": "code",
   "execution_count": 6,
   "id": "04fc8dee",
   "metadata": {},
   "outputs": [],
   "source": [
    "# shape 817 rows and 24 columns"
   ]
  },
  {
   "cell_type": "code",
   "execution_count": 7,
   "id": "9bb60284",
   "metadata": {},
   "outputs": [
    {
     "data": {
      "text/html": [
       "<div>\n",
       "<style scoped>\n",
       "    .dataframe tbody tr th:only-of-type {\n",
       "        vertical-align: middle;\n",
       "    }\n",
       "\n",
       "    .dataframe tbody tr th {\n",
       "        vertical-align: top;\n",
       "    }\n",
       "\n",
       "    .dataframe thead th {\n",
       "        text-align: right;\n",
       "    }\n",
       "</style>\n",
       "<table border=\"1\" class=\"dataframe\">\n",
       "  <thead>\n",
       "    <tr style=\"text-align: right;\">\n",
       "      <th></th>\n",
       "      <th>track_name</th>\n",
       "      <th>artist(s)_name</th>\n",
       "      <th>artist_count</th>\n",
       "      <th>released_year</th>\n",
       "      <th>released_month</th>\n",
       "      <th>released_day</th>\n",
       "      <th>in_spotify_playlists</th>\n",
       "      <th>in_spotify_charts</th>\n",
       "      <th>streams</th>\n",
       "      <th>in_apple_playlists</th>\n",
       "      <th>...</th>\n",
       "      <th>bpm</th>\n",
       "      <th>key</th>\n",
       "      <th>mode</th>\n",
       "      <th>danceability_%</th>\n",
       "      <th>valence_%</th>\n",
       "      <th>energy_%</th>\n",
       "      <th>acousticness_%</th>\n",
       "      <th>instrumentalness_%</th>\n",
       "      <th>liveness_%</th>\n",
       "      <th>speechiness_%</th>\n",
       "    </tr>\n",
       "  </thead>\n",
       "  <tbody>\n",
       "    <tr>\n",
       "      <th>0</th>\n",
       "      <td>Seven (feat. Latto) (Explicit Ver.)</td>\n",
       "      <td>Latto, Jung Kook</td>\n",
       "      <td>2</td>\n",
       "      <td>2023</td>\n",
       "      <td>7</td>\n",
       "      <td>14</td>\n",
       "      <td>553</td>\n",
       "      <td>147</td>\n",
       "      <td>141381703</td>\n",
       "      <td>43</td>\n",
       "      <td>...</td>\n",
       "      <td>125</td>\n",
       "      <td>B</td>\n",
       "      <td>Major</td>\n",
       "      <td>80</td>\n",
       "      <td>89</td>\n",
       "      <td>83</td>\n",
       "      <td>31</td>\n",
       "      <td>0</td>\n",
       "      <td>8</td>\n",
       "      <td>4</td>\n",
       "    </tr>\n",
       "    <tr>\n",
       "      <th>1</th>\n",
       "      <td>LALA</td>\n",
       "      <td>Myke Towers</td>\n",
       "      <td>1</td>\n",
       "      <td>2023</td>\n",
       "      <td>3</td>\n",
       "      <td>23</td>\n",
       "      <td>1474</td>\n",
       "      <td>48</td>\n",
       "      <td>133716286</td>\n",
       "      <td>48</td>\n",
       "      <td>...</td>\n",
       "      <td>92</td>\n",
       "      <td>C#</td>\n",
       "      <td>Major</td>\n",
       "      <td>71</td>\n",
       "      <td>61</td>\n",
       "      <td>74</td>\n",
       "      <td>7</td>\n",
       "      <td>0</td>\n",
       "      <td>10</td>\n",
       "      <td>4</td>\n",
       "    </tr>\n",
       "    <tr>\n",
       "      <th>2</th>\n",
       "      <td>vampire</td>\n",
       "      <td>Olivia Rodrigo</td>\n",
       "      <td>1</td>\n",
       "      <td>2023</td>\n",
       "      <td>6</td>\n",
       "      <td>30</td>\n",
       "      <td>1397</td>\n",
       "      <td>113</td>\n",
       "      <td>140003974</td>\n",
       "      <td>94</td>\n",
       "      <td>...</td>\n",
       "      <td>138</td>\n",
       "      <td>F</td>\n",
       "      <td>Major</td>\n",
       "      <td>51</td>\n",
       "      <td>32</td>\n",
       "      <td>53</td>\n",
       "      <td>17</td>\n",
       "      <td>0</td>\n",
       "      <td>31</td>\n",
       "      <td>6</td>\n",
       "    </tr>\n",
       "    <tr>\n",
       "      <th>3</th>\n",
       "      <td>Cruel Summer</td>\n",
       "      <td>Taylor Swift</td>\n",
       "      <td>1</td>\n",
       "      <td>2019</td>\n",
       "      <td>8</td>\n",
       "      <td>23</td>\n",
       "      <td>7858</td>\n",
       "      <td>100</td>\n",
       "      <td>800840817</td>\n",
       "      <td>116</td>\n",
       "      <td>...</td>\n",
       "      <td>170</td>\n",
       "      <td>A</td>\n",
       "      <td>Major</td>\n",
       "      <td>55</td>\n",
       "      <td>58</td>\n",
       "      <td>72</td>\n",
       "      <td>11</td>\n",
       "      <td>0</td>\n",
       "      <td>11</td>\n",
       "      <td>15</td>\n",
       "    </tr>\n",
       "    <tr>\n",
       "      <th>4</th>\n",
       "      <td>WHERE SHE GOES</td>\n",
       "      <td>Bad Bunny</td>\n",
       "      <td>1</td>\n",
       "      <td>2023</td>\n",
       "      <td>5</td>\n",
       "      <td>18</td>\n",
       "      <td>3133</td>\n",
       "      <td>50</td>\n",
       "      <td>303236322</td>\n",
       "      <td>84</td>\n",
       "      <td>...</td>\n",
       "      <td>144</td>\n",
       "      <td>A</td>\n",
       "      <td>Minor</td>\n",
       "      <td>65</td>\n",
       "      <td>23</td>\n",
       "      <td>80</td>\n",
       "      <td>14</td>\n",
       "      <td>63</td>\n",
       "      <td>11</td>\n",
       "      <td>6</td>\n",
       "    </tr>\n",
       "  </tbody>\n",
       "</table>\n",
       "<p>5 rows × 24 columns</p>\n",
       "</div>"
      ],
      "text/plain": [
       "                            track_name    artist(s)_name  artist_count  \\\n",
       "0  Seven (feat. Latto) (Explicit Ver.)  Latto, Jung Kook             2   \n",
       "1                                 LALA       Myke Towers             1   \n",
       "2                              vampire    Olivia Rodrigo             1   \n",
       "3                         Cruel Summer      Taylor Swift             1   \n",
       "4                       WHERE SHE GOES         Bad Bunny             1   \n",
       "\n",
       "   released_year  released_month  released_day  in_spotify_playlists  \\\n",
       "0           2023               7            14                   553   \n",
       "1           2023               3            23                  1474   \n",
       "2           2023               6            30                  1397   \n",
       "3           2019               8            23                  7858   \n",
       "4           2023               5            18                  3133   \n",
       "\n",
       "   in_spotify_charts    streams  in_apple_playlists  ...  bpm key   mode  \\\n",
       "0                147  141381703                  43  ...  125   B  Major   \n",
       "1                 48  133716286                  48  ...   92  C#  Major   \n",
       "2                113  140003974                  94  ...  138   F  Major   \n",
       "3                100  800840817                 116  ...  170   A  Major   \n",
       "4                 50  303236322                  84  ...  144   A  Minor   \n",
       "\n",
       "  danceability_%  valence_% energy_% acousticness_%  instrumentalness_%  \\\n",
       "0             80         89       83             31                   0   \n",
       "1             71         61       74              7                   0   \n",
       "2             51         32       53             17                   0   \n",
       "3             55         58       72             11                   0   \n",
       "4             65         23       80             14                  63   \n",
       "\n",
       "   liveness_%  speechiness_%  \n",
       "0           8              4  \n",
       "1          10              4  \n",
       "2          31              6  \n",
       "3          11             15  \n",
       "4          11              6  \n",
       "\n",
       "[5 rows x 24 columns]"
      ]
     },
     "execution_count": 7,
     "metadata": {},
     "output_type": "execute_result"
    }
   ],
   "source": [
    "data.head()"
   ]
  },
  {
   "cell_type": "code",
   "execution_count": 11,
   "id": "11e437ae",
   "metadata": {},
   "outputs": [],
   "source": [
    "# renaming columns\n",
    "data = data.rename(columns={'danceability_%':'danceability','valence_%':'valence','energy_%':'energy','acousticness_%':'acousticness','instrumentalness_%':'instrumentalness','liveness_%':'liveness', 'speechiness_%':'speechiness'})"
   ]
  },
  {
   "cell_type": "code",
   "execution_count": 12,
   "id": "bbe2c378",
   "metadata": {},
   "outputs": [
    {
     "data": {
      "text/html": [
       "<div>\n",
       "<style scoped>\n",
       "    .dataframe tbody tr th:only-of-type {\n",
       "        vertical-align: middle;\n",
       "    }\n",
       "\n",
       "    .dataframe tbody tr th {\n",
       "        vertical-align: top;\n",
       "    }\n",
       "\n",
       "    .dataframe thead th {\n",
       "        text-align: right;\n",
       "    }\n",
       "</style>\n",
       "<table border=\"1\" class=\"dataframe\">\n",
       "  <thead>\n",
       "    <tr style=\"text-align: right;\">\n",
       "      <th></th>\n",
       "      <th>track_name</th>\n",
       "      <th>artist(s)_name</th>\n",
       "      <th>artist_count</th>\n",
       "      <th>released_year</th>\n",
       "      <th>released_month</th>\n",
       "      <th>released_day</th>\n",
       "      <th>in_spotify_playlists</th>\n",
       "      <th>in_spotify_charts</th>\n",
       "      <th>streams</th>\n",
       "      <th>in_apple_playlists</th>\n",
       "      <th>...</th>\n",
       "      <th>bpm</th>\n",
       "      <th>key</th>\n",
       "      <th>mode</th>\n",
       "      <th>danceability</th>\n",
       "      <th>valence</th>\n",
       "      <th>energy</th>\n",
       "      <th>acousticness</th>\n",
       "      <th>instrumentalness</th>\n",
       "      <th>liveness</th>\n",
       "      <th>speechiness</th>\n",
       "    </tr>\n",
       "  </thead>\n",
       "  <tbody>\n",
       "    <tr>\n",
       "      <th>0</th>\n",
       "      <td>Seven (feat. Latto) (Explicit Ver.)</td>\n",
       "      <td>Latto, Jung Kook</td>\n",
       "      <td>2</td>\n",
       "      <td>2023</td>\n",
       "      <td>7</td>\n",
       "      <td>14</td>\n",
       "      <td>553</td>\n",
       "      <td>147</td>\n",
       "      <td>141381703</td>\n",
       "      <td>43</td>\n",
       "      <td>...</td>\n",
       "      <td>125</td>\n",
       "      <td>B</td>\n",
       "      <td>Major</td>\n",
       "      <td>80</td>\n",
       "      <td>89</td>\n",
       "      <td>83</td>\n",
       "      <td>31</td>\n",
       "      <td>0</td>\n",
       "      <td>8</td>\n",
       "      <td>4</td>\n",
       "    </tr>\n",
       "    <tr>\n",
       "      <th>1</th>\n",
       "      <td>LALA</td>\n",
       "      <td>Myke Towers</td>\n",
       "      <td>1</td>\n",
       "      <td>2023</td>\n",
       "      <td>3</td>\n",
       "      <td>23</td>\n",
       "      <td>1474</td>\n",
       "      <td>48</td>\n",
       "      <td>133716286</td>\n",
       "      <td>48</td>\n",
       "      <td>...</td>\n",
       "      <td>92</td>\n",
       "      <td>C#</td>\n",
       "      <td>Major</td>\n",
       "      <td>71</td>\n",
       "      <td>61</td>\n",
       "      <td>74</td>\n",
       "      <td>7</td>\n",
       "      <td>0</td>\n",
       "      <td>10</td>\n",
       "      <td>4</td>\n",
       "    </tr>\n",
       "    <tr>\n",
       "      <th>2</th>\n",
       "      <td>vampire</td>\n",
       "      <td>Olivia Rodrigo</td>\n",
       "      <td>1</td>\n",
       "      <td>2023</td>\n",
       "      <td>6</td>\n",
       "      <td>30</td>\n",
       "      <td>1397</td>\n",
       "      <td>113</td>\n",
       "      <td>140003974</td>\n",
       "      <td>94</td>\n",
       "      <td>...</td>\n",
       "      <td>138</td>\n",
       "      <td>F</td>\n",
       "      <td>Major</td>\n",
       "      <td>51</td>\n",
       "      <td>32</td>\n",
       "      <td>53</td>\n",
       "      <td>17</td>\n",
       "      <td>0</td>\n",
       "      <td>31</td>\n",
       "      <td>6</td>\n",
       "    </tr>\n",
       "    <tr>\n",
       "      <th>3</th>\n",
       "      <td>Cruel Summer</td>\n",
       "      <td>Taylor Swift</td>\n",
       "      <td>1</td>\n",
       "      <td>2019</td>\n",
       "      <td>8</td>\n",
       "      <td>23</td>\n",
       "      <td>7858</td>\n",
       "      <td>100</td>\n",
       "      <td>800840817</td>\n",
       "      <td>116</td>\n",
       "      <td>...</td>\n",
       "      <td>170</td>\n",
       "      <td>A</td>\n",
       "      <td>Major</td>\n",
       "      <td>55</td>\n",
       "      <td>58</td>\n",
       "      <td>72</td>\n",
       "      <td>11</td>\n",
       "      <td>0</td>\n",
       "      <td>11</td>\n",
       "      <td>15</td>\n",
       "    </tr>\n",
       "    <tr>\n",
       "      <th>4</th>\n",
       "      <td>WHERE SHE GOES</td>\n",
       "      <td>Bad Bunny</td>\n",
       "      <td>1</td>\n",
       "      <td>2023</td>\n",
       "      <td>5</td>\n",
       "      <td>18</td>\n",
       "      <td>3133</td>\n",
       "      <td>50</td>\n",
       "      <td>303236322</td>\n",
       "      <td>84</td>\n",
       "      <td>...</td>\n",
       "      <td>144</td>\n",
       "      <td>A</td>\n",
       "      <td>Minor</td>\n",
       "      <td>65</td>\n",
       "      <td>23</td>\n",
       "      <td>80</td>\n",
       "      <td>14</td>\n",
       "      <td>63</td>\n",
       "      <td>11</td>\n",
       "      <td>6</td>\n",
       "    </tr>\n",
       "  </tbody>\n",
       "</table>\n",
       "<p>5 rows × 24 columns</p>\n",
       "</div>"
      ],
      "text/plain": [
       "                            track_name    artist(s)_name  artist_count  \\\n",
       "0  Seven (feat. Latto) (Explicit Ver.)  Latto, Jung Kook             2   \n",
       "1                                 LALA       Myke Towers             1   \n",
       "2                              vampire    Olivia Rodrigo             1   \n",
       "3                         Cruel Summer      Taylor Swift             1   \n",
       "4                       WHERE SHE GOES         Bad Bunny             1   \n",
       "\n",
       "   released_year  released_month  released_day  in_spotify_playlists  \\\n",
       "0           2023               7            14                   553   \n",
       "1           2023               3            23                  1474   \n",
       "2           2023               6            30                  1397   \n",
       "3           2019               8            23                  7858   \n",
       "4           2023               5            18                  3133   \n",
       "\n",
       "   in_spotify_charts    streams  in_apple_playlists  ...  bpm key   mode  \\\n",
       "0                147  141381703                  43  ...  125   B  Major   \n",
       "1                 48  133716286                  48  ...   92  C#  Major   \n",
       "2                113  140003974                  94  ...  138   F  Major   \n",
       "3                100  800840817                 116  ...  170   A  Major   \n",
       "4                 50  303236322                  84  ...  144   A  Minor   \n",
       "\n",
       "  danceability  valence energy acousticness  instrumentalness  liveness  \\\n",
       "0           80       89     83           31                 0         8   \n",
       "1           71       61     74            7                 0        10   \n",
       "2           51       32     53           17                 0        31   \n",
       "3           55       58     72           11                 0        11   \n",
       "4           65       23     80           14                63        11   \n",
       "\n",
       "   speechiness  \n",
       "0            4  \n",
       "1            4  \n",
       "2            6  \n",
       "3           15  \n",
       "4            6  \n",
       "\n",
       "[5 rows x 24 columns]"
      ]
     },
     "execution_count": 12,
     "metadata": {},
     "output_type": "execute_result"
    }
   ],
   "source": [
    "data.head()"
   ]
  },
  {
   "cell_type": "code",
   "execution_count": 8,
   "id": "83fa1c9d",
   "metadata": {},
   "outputs": [],
   "source": [
    "# Exploratory data analysis"
   ]
  },
  {
   "cell_type": "code",
   "execution_count": 9,
   "id": "4b6dbec8",
   "metadata": {},
   "outputs": [
    {
     "data": {
      "text/plain": [
       "570"
      ]
     },
     "execution_count": 9,
     "metadata": {},
     "output_type": "execute_result"
    }
   ],
   "source": [
    "# Counting the number of unique artists in the dataset\n",
    "unique_artists = data[\"artist(s)_name\"].unique()\n",
    "len(unique_artists)"
   ]
  },
  {
   "cell_type": "code",
   "execution_count": 14,
   "id": "f2a6c6b1",
   "metadata": {},
   "outputs": [],
   "source": [
    "import numpy as np"
   ]
  },
  {
   "cell_type": "code",
   "execution_count": 15,
   "id": "a1201f26",
   "metadata": {},
   "outputs": [],
   "source": [
    "data[\"streams\"] = np.int64(data['streams'])"
   ]
  },
  {
   "cell_type": "code",
   "execution_count": 16,
   "id": "c61cf18e",
   "metadata": {},
   "outputs": [],
   "source": [
    "num_streams = np.int64(data['streams'])"
   ]
  },
  {
   "cell_type": "code",
   "execution_count": 17,
   "id": "1e731fdc",
   "metadata": {},
   "outputs": [],
   "source": [
    "num_of_streams = pd.Series(num_streams)"
   ]
  },
  {
   "cell_type": "code",
   "execution_count": 18,
   "id": "67af473e",
   "metadata": {},
   "outputs": [
    {
     "data": {
      "text/plain": [
       "count    8.160000e+02\n",
       "mean     4.689858e+08\n",
       "std      5.231267e+08\n",
       "min      2.762000e+03\n",
       "25%      1.342848e+08\n",
       "50%      2.638368e+08\n",
       "75%      6.011986e+08\n",
       "max      3.562544e+09\n",
       "dtype: float64"
      ]
     },
     "execution_count": 18,
     "metadata": {},
     "output_type": "execute_result"
    }
   ],
   "source": [
    "# summary statistics for number of streams \n",
    "num_of_streams.describe()"
   ]
  },
  {
   "cell_type": "code",
   "execution_count": 19,
   "id": "19b827fa",
   "metadata": {},
   "outputs": [
    {
     "data": {
      "text/plain": [
       "Taylor Swift        29\n",
       "SZA                 17\n",
       "Bad Bunny           16\n",
       "The Weeknd          15\n",
       "Kendrick Lamar      12\n",
       "Harry Styles        12\n",
       "Morgan Wallen        9\n",
       "Feid                 8\n",
       "Drake, 21 Savage     7\n",
       "BTS                  7\n",
       "Name: artist(s)_name, dtype: int64"
      ]
     },
     "execution_count": 19,
     "metadata": {},
     "output_type": "execute_result"
    }
   ],
   "source": [
    "# understanding how many songs each artist has in the data set\n",
    "data[\"artist(s)_name\"].value_counts().head(10)"
   ]
  },
  {
   "cell_type": "code",
   "execution_count": 20,
   "id": "e532b2b9",
   "metadata": {},
   "outputs": [],
   "source": [
    "Taylor_swift_songs = data[data[\"artist(s)_name\"] == \"Taylor Swift\"]"
   ]
  },
  {
   "cell_type": "code",
   "execution_count": 30,
   "id": "086c67dd",
   "metadata": {},
   "outputs": [
    {
     "name": "stderr",
     "output_type": "stream",
     "text": [
      "C:\\Users\\afari\\AppData\\Local\\Temp\\ipykernel_16500\\2616778666.py:1: SettingWithCopyWarning: \n",
      "A value is trying to be set on a copy of a slice from a DataFrame.\n",
      "Try using .loc[row_indexer,col_indexer] = value instead\n",
      "\n",
      "See the caveats in the documentation: https://pandas.pydata.org/pandas-docs/stable/user_guide/indexing.html#returning-a-view-versus-a-copy\n",
      "  Taylor_swift_songs[\"track_name\"] = Taylor_swift_songs[\"track_name\"].str.replace(r\"\\(.*?\\)|\\[.*?\\]\", \"\", regex=True)\n"
     ]
    }
   ],
   "source": [
    " Taylor_swift_songs[\"track_name\"] = Taylor_swift_songs[\"track_name\"].str.replace(r\"\\(.*?\\)|\\[.*?\\]\", \"\", regex=True)"
   ]
  },
  {
   "cell_type": "code",
   "execution_count": 51,
   "id": "06ae938e",
   "metadata": {},
   "outputs": [
    {
     "data": {
      "text/plain": [
       "3                                 Cruel Summer\n",
       "21                   I Can See You  (From The \n",
       "33                                   Anti-Hero\n",
       "37                                 Blank Space\n",
       "38                                       Style\n",
       "66                                       Karma\n",
       "69                                  Enchanted \n",
       "83                           Back To December \n",
       "93                            Donï¿½ï¿½ï¿½t Bl\n",
       "100                                      Lover\n",
       "113                                      Mine \n",
       "119                                     august\n",
       "163                                  Enchanted\n",
       "176                               Shake It Off\n",
       "191    You Belong With Me (Taylorï¿½ï¿½ï¿½s Ve\n",
       "193                       Better Than Revenge \n",
       "206                             Hits Different\n",
       "237                              Lavender Haze\n",
       "270          All Of The Girls You Loved Before\n",
       "437                    You're On Your Own, Kid\n",
       "487                                     Maroon\n",
       "489                                  Bejeweled\n",
       "822             This Love (Taylorï¿½ï¿½ï¿½s Ve\n",
       "932                             Vigilante Shit\n",
       "933                               Question...?\n",
       "935                                 Mastermind\n",
       "940              Would've, Could've, Should've\n",
       "946                              The Great War\n",
       "948                  Bigger Than The Whole Sky\n",
       "Name: track_name, dtype: object"
      ]
     },
     "execution_count": 51,
     "metadata": {},
     "output_type": "execute_result"
    }
   ],
   "source": [
    "Taylor_swift_songs[\"track_name\"]"
   ]
  },
  {
   "cell_type": "code",
   "execution_count": 58,
   "id": "35e88839",
   "metadata": {},
   "outputs": [
    {
     "name": "stderr",
     "output_type": "stream",
     "text": [
      "C:\\Users\\afari\\AppData\\Local\\Temp\\ipykernel_16500\\1730249595.py:1: SettingWithCopyWarning: \n",
      "A value is trying to be set on a copy of a slice from a DataFrame.\n",
      "Try using .loc[row_indexer,col_indexer] = value instead\n",
      "\n",
      "See the caveats in the documentation: https://pandas.pydata.org/pandas-docs/stable/user_guide/indexing.html#returning-a-view-versus-a-copy\n",
      "  Taylor_swift_songs[\"track_name\"] = Taylor_swift_songs[\"track_name\"].str.replace(r\"ï¿½ï¿½ï¿½\", \"\", regex=False)\n"
     ]
    }
   ],
   "source": [
    " Taylor_swift_songs[\"track_name\"] = Taylor_swift_songs[\"track_name\"].str.replace(r\"ï¿½ï¿½ï¿½\", \"\", regex=False)"
   ]
  },
  {
   "cell_type": "code",
   "execution_count": 59,
   "id": "3068e13f",
   "metadata": {},
   "outputs": [
    {
     "name": "stderr",
     "output_type": "stream",
     "text": [
      "C:\\Users\\afari\\AppData\\Local\\Temp\\ipykernel_16500\\3134605411.py:1: SettingWithCopyWarning: \n",
      "A value is trying to be set on a copy of a slice from a DataFrame.\n",
      "Try using .loc[row_indexer,col_indexer] = value instead\n",
      "\n",
      "See the caveats in the documentation: https://pandas.pydata.org/pandas-docs/stable/user_guide/indexing.html#returning-a-view-versus-a-copy\n",
      "  Taylor_swift_songs[\"track_name\"] = Taylor_swift_songs[\"track_name\"].str.replace(r\"(Taylorï¿½ï¿½ï¿½s Ve\", \"\", regex=False)\n"
     ]
    }
   ],
   "source": [
    " Taylor_swift_songs[\"track_name\"] = Taylor_swift_songs[\"track_name\"].str.replace(r\"(Taylorï¿½ï¿½ï¿½s Ve\", \"\", regex=False)"
   ]
  },
  {
   "cell_type": "code",
   "execution_count": 60,
   "id": "fdd478b5",
   "metadata": {},
   "outputs": [],
   "source": [
    "from matplotlib.ticker import ScalarFormatter"
   ]
  },
  {
   "cell_type": "code",
   "execution_count": 61,
   "id": "34c56714",
   "metadata": {},
   "outputs": [
    {
     "data": {
      "image/png": "[encoded data removed]",
      "text/plain": [
       "<Figure size 640x480 with 1 Axes>"
      ]
     },
     "metadata": {},
     "output_type": "display_data"
    }
   ],
   "source": [
    "plt.bar(Taylor_swift_songs['track_name'], Taylor_swift_songs['streams']);\n",
    "plt.xticks(rotation=90, ha='center')\n",
    "plt.xlabel('Taylor Swift Songs')\n",
    "plt.ylabel('Number of Streams')\n",
    "plt.title('Taylor Swift Song Streams')\n",
    "y_formatter = ScalarFormatter(useOffset=False, useMathText=False)\n",
    "y_formatter.set_scientific(False)\n",
    "plt.gca().yaxis.set_major_formatter(y_formatter)"
   ]
  },
  {
   "cell_type": "code",
   "execution_count": 62,
   "id": "82c36523",
   "metadata": {},
   "outputs": [],
   "source": [
    "lowest_streams = Taylor_swift_songs[Taylor_swift_songs[\"streams\"] == Taylor_swift_songs[\"streams\"].min()] "
   ]
  },
  {
   "cell_type": "code",
   "execution_count": 63,
   "id": "0fe11eca",
   "metadata": {},
   "outputs": [
    {
     "data": {
      "text/html": [
       "<div>\n",
       "<style scoped>\n",
       "    .dataframe tbody tr th:only-of-type {\n",
       "        vertical-align: middle;\n",
       "    }\n",
       "\n",
       "    .dataframe tbody tr th {\n",
       "        vertical-align: top;\n",
       "    }\n",
       "\n",
       "    .dataframe thead th {\n",
       "        text-align: right;\n",
       "    }\n",
       "</style>\n",
       "<table border=\"1\" class=\"dataframe\">\n",
       "  <thead>\n",
       "    <tr style=\"text-align: right;\">\n",
       "      <th></th>\n",
       "      <th>track_name</th>\n",
       "      <th>artist(s)_name</th>\n",
       "      <th>artist_count</th>\n",
       "      <th>released_year</th>\n",
       "      <th>released_month</th>\n",
       "      <th>released_day</th>\n",
       "      <th>in_spotify_playlists</th>\n",
       "      <th>in_spotify_charts</th>\n",
       "      <th>streams</th>\n",
       "      <th>in_apple_playlists</th>\n",
       "      <th>...</th>\n",
       "      <th>bpm</th>\n",
       "      <th>key</th>\n",
       "      <th>mode</th>\n",
       "      <th>danceability</th>\n",
       "      <th>valence</th>\n",
       "      <th>energy</th>\n",
       "      <th>acousticness</th>\n",
       "      <th>instrumentalness</th>\n",
       "      <th>liveness</th>\n",
       "      <th>speechiness</th>\n",
       "    </tr>\n",
       "  </thead>\n",
       "  <tbody>\n",
       "    <tr>\n",
       "      <th>193</th>\n",
       "      <td>Better Than Revenge</td>\n",
       "      <td>Better Than Revenge</td>\n",
       "      <td>1</td>\n",
       "      <td>2023</td>\n",
       "      <td>7</td>\n",
       "      <td>7</td>\n",
       "      <td>86</td>\n",
       "      <td>11</td>\n",
       "      <td>30343206</td>\n",
       "      <td>3</td>\n",
       "      <td>...</td>\n",
       "      <td>146</td>\n",
       "      <td>B</td>\n",
       "      <td>Minor</td>\n",
       "      <td>50</td>\n",
       "      <td>67</td>\n",
       "      <td>89</td>\n",
       "      <td>0</td>\n",
       "      <td>0</td>\n",
       "      <td>19</td>\n",
       "      <td>8</td>\n",
       "    </tr>\n",
       "  </tbody>\n",
       "</table>\n",
       "<p>1 rows × 24 columns</p>\n",
       "</div>"
      ],
      "text/plain": [
       "               track_name        artist(s)_name  artist_count  released_year  \\\n",
       "193  Better Than Revenge   Better Than Revenge              1           2023   \n",
       "\n",
       "     released_month  released_day  in_spotify_playlists  in_spotify_charts  \\\n",
       "193               7             7                    86                 11   \n",
       "\n",
       "      streams  in_apple_playlists  ...  bpm key   mode danceability  valence  \\\n",
       "193  30343206                   3  ...  146   B  Minor           50       67   \n",
       "\n",
       "    energy acousticness  instrumentalness  liveness  speechiness  \n",
       "193     89            0                 0        19            8  \n",
       "\n",
       "[1 rows x 24 columns]"
      ]
     },
     "execution_count": 63,
     "metadata": {},
     "output_type": "execute_result"
    }
   ],
   "source": [
    "# song with lowest number of streams\n",
    "lowest_streams"
   ]
  },
  {
   "cell_type": "code",
   "execution_count": 64,
   "id": "79ea6842",
   "metadata": {},
   "outputs": [
    {
     "data": {
      "image/png": "[encoded data removed]",
      "text/plain": [
       "<Figure size 640x480 with 1 Axes>"
      ]
     },
     "metadata": {},
     "output_type": "display_data"
    }
   ],
   "source": [
    "plt.boxplot(data[\"streams\"], vert = False)\n",
    "plt.xlabel('Number of Streams')\n",
    "plt.title('Songs Streamed')\n",
    "plt.xticks(rotation=90, ha='center') \n",
    "x_formatter = ScalarFormatter(useOffset=False, useMathText=False)\n",
    "x_formatter.set_scientific(False)\n",
    "\n",
    "plt.gca().xaxis.set_major_formatter(x_formatter)"
   ]
  },
  {
   "cell_type": "code",
   "execution_count": 65,
   "id": "978b759b",
   "metadata": {},
   "outputs": [
    {
     "data": {
      "image/png": "[encoded data removed]",
      "text/plain": [
       "<Figure size 640x480 with 1 Axes>"
      ]
     },
     "metadata": {},
     "output_type": "display_data"
    }
   ],
   "source": [
    "plt.scatter(data['bpm'], data['streams'], color = \"b\")\n",
    "plt.xlabel('Beats per Minute')\n",
    "plt.ylabel('Streams')\n",
    "plt.title(\"BPM vs Streams\")\n",
    "y_formatter = ScalarFormatter(useOffset=False, useMathText=False)\n",
    "y_formatter.set_scientific(False)\n",
    "plt.gca().yaxis.set_major_formatter(y_formatter)"
   ]
  },
  {
   "cell_type": "code",
   "execution_count": 69,
   "id": "9c6d310c",
   "metadata": {},
   "outputs": [],
   "source": [
    "bpm_streams = data['bpm'].corr(data['streams'])"
   ]
  },
  {
   "cell_type": "code",
   "execution_count": 70,
   "id": "fba5c95d",
   "metadata": {},
   "outputs": [
    {
     "data": {
      "text/plain": [
       "-0.025693846505562057"
      ]
     },
     "execution_count": 70,
     "metadata": {},
     "output_type": "execute_result"
    }
   ],
   "source": [
    "bpm_streams"
   ]
  },
  {
   "cell_type": "code",
   "execution_count": null,
   "id": "e8370b13",
   "metadata": {},
   "outputs": [],
   "source": []
  }
 ],
 "metadata": {
  "kernelspec": {
   "display_name": "Python 3 (ipykernel)",
   "language": "python",
   "name": "python3"
  },
  "language_info": {
   "codemirror_mode": {
    "name": "ipython",
    "version": 3
   },
   "file_extension": ".py",
   "mimetype": "text/x-python",
   "name": "python",
   "nbconvert_exporter": "python",
   "pygments_lexer": "ipython3",
   "version": "3.11.0"
  }
 },
 "nbformat": 4,
 "nbformat_minor": 5
}
